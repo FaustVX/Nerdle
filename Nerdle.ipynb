{
 "cells": [
  {
   "cell_type": "code",
   "execution_count": 2,
   "metadata": {
    "dotnet_interactive": {
     "language": "csharp"
    },
    "polyglot_notebook": {
     "kernelName": "csharp"
    }
   },
   "outputs": [],
   "source": [
    "class Nerdle\n",
    "#nullable enable\n",
    "{\n",
    "    public required (char? mandatory, char[]? forbiden)[] Slot { get; init; }\n",
    "    private readonly (char symbol, int qty, int min)[] _symbols = default!;\n",
    "    public required (char symbol, int qty, int min)[] Symbols\n",
    "    {\n",
    "        get => _symbols;\n",
    "        init => _symbols = value\n",
    "            .Where(static s => s is (_, > 0, _) or (_, _, >= 0))\n",
    "            .Where(((Slot?.Any(static s => s is ('=', _))) ?? false) ? static s => s is (_, _, _) : static _ => true)\n",
    "            .ToArray();\n",
    "    }\n",
    "\n",
    "    public IEnumerable<string> GetAllLines(bool printMaxCombinatory = false)\n",
    "    {\n",
    "        // System.Diagnostics.Debugger.Launch();\n",
    "        var symbols = Enumerable.Repeat((Slot, Symbols), Slot.Length)\n",
    "            .Select(static (p, pos) => p.Slot[pos] switch\n",
    "            {\n",
    "                (char m, null or []) => Enumerable.Repeat(m, 1),\n",
    "                (null, char[] f) => p.Symbols.Select(static s => s.symbol).Except(f),\n",
    "                _ => throw new System.Diagnostics.UnreachableException(),\n",
    "            })\n",
    "            .Select(Enumerable.ToArray)\n",
    "            .ToArray();\n",
    "\n",
    "        if (printMaxCombinatory)\n",
    "        {\n",
    "            var combinatory = 1L;\n",
    "            for (var i = 0; i < symbols.Length; i++)\n",
    "            {\n",
    "                Console.Error.WriteLine($\"[{i}]: {symbols[i].Length}\");\n",
    "                combinatory *= symbols[i].Length;\n",
    "            }\n",
    "            Console.Error.WriteLine($\"Max combinatory: {combinatory}\");\n",
    "        }\n",
    "\n",
    "        return Process(0, new char[Slot.Length], symbols).Where(IsValidLine);\n",
    "\n",
    "        static IEnumerable<string> Process(int pos, char[] line, char[][] symbols)\n",
    "        {\n",
    "            foreach (var symbol in symbols[pos])\n",
    "            {\n",
    "                line[pos] = symbol;\n",
    "                if (pos < line.Length - 1)\n",
    "                    foreach (var l in Process(pos + 1, line, symbols))\n",
    "                        yield return l;\n",
    "                else\n",
    "                    yield return new(line);\n",
    "            }\n",
    "        }\n",
    "\n",
    "        bool IsValidLine(string line)\n",
    "        {\n",
    "            if (line == \"8+()-(91=2\")\n",
    "                System.Diagnostics.Debugger.Break();\n",
    "\n",
    "            return line.IndexOf('=') is var index and >= 3\n",
    "                    && CheckSymbolOnTheRight(line, index)\n",
    "                    && CheckFirstAndLast(line)\n",
    "                    && CheckBeforeAndAfterOperator(line, index)\n",
    "                    && CheckSymbolQty(line, Symbols)\n",
    "                    && CheckParenthesis(line, index)\n",
    "                    && CheckExponent(line, index);\n",
    "\n",
    "            static bool CheckSymbolOnTheRight(string line, int index)\n",
    "            {\n",
    "                var a = line.IndexOf('+', index + 1);\n",
    "                var s = line.IndexOf('-', index + 1);\n",
    "                var m = line.IndexOf('*', index + 1);\n",
    "                var d = line.IndexOf('/', index + 1);\n",
    "                var e = line.IndexOf('=', index + 1);\n",
    "                var l = line.IndexOf('(', index + 1);\n",
    "                var r = line.IndexOf(')', index + 1);\n",
    "                var q = line.IndexOf('²', index + 1);\n",
    "                var c = line.IndexOf('³', index + 1);\n",
    "                return ! (a != -1 || s != -1 || m != -1 || d != -1 || e != -1 || l != -1 || r != -1 || q != -1 || c != -1);\n",
    "            }\n",
    "\n",
    "            static bool CheckFirstAndLast(string line)\n",
    "            => line[0] is >= '0' and <= '9' or '(' && line[^1] is >= '0' and <= '9';\n",
    "\n",
    "            static bool CheckBeforeAndAfterOperator(string line, int index)\n",
    "            {\n",
    "                for (var i = 1; i < index; i++)\n",
    "                    if (line[i] is '+' or '-' or '*' or '/' && !(line[i - 1] is >= '0' and <= '9' or ')' && line[i + 1] is >= '0' and <= '9' or '('))\n",
    "                        return false;\n",
    "                return true;\n",
    "            }\n",
    "\n",
    "            static bool CheckSymbolQty(string line, (char symbol, int qty, int min)[] symbols)\n",
    "            {\n",
    "                foreach (var symbol in symbols)\n",
    "                    switch (symbol)\n",
    "                    {\n",
    "                        case (_, 0, 0):\n",
    "                            break;\n",
    "                        case (_, <= 0, var min):\n",
    "                            if (line.Count(symbol.symbol.Equals) < min)\n",
    "                                return false;\n",
    "                            break;\n",
    "                        case (_, var qty, _):\n",
    "                            if (line.Count(symbol.symbol.Equals) != qty)\n",
    "                                return false;\n",
    "                            break;\n",
    "                    }\n",
    "                return true;\n",
    "            }\n",
    "\n",
    "            static bool CheckParenthesis(string line, int index)\n",
    "            {\n",
    "                var depth = 0;\n",
    "                for (var i = 0; i < index; i++)\n",
    "                {\n",
    "                    var c = line[i];\n",
    "                    if (c is '(')\n",
    "                    {\n",
    "                        depth++;\n",
    "                        if ((i >=1 && line[i - 1] is not ('+' or '-' or '*' or '/')) || line[i + 1] is ')')\n",
    "                            return false;\n",
    "                    }\n",
    "                    else if (c is ')')\n",
    "                    {\n",
    "                        depth--;\n",
    "                        if (line[i + 1] is not ('+' or '-' or '*' or '/' or '²' or '³'))\n",
    "                            return false;\n",
    "                    }\n",
    "                    if (depth < 0)\n",
    "                        return false;\n",
    "                }\n",
    "                return depth == 0;\n",
    "            }\n",
    "\n",
    "            static bool CheckExponent(string line, int index)\n",
    "            {\n",
    "                for (var i = 1; i < index; i++)\n",
    "                    if (line[i] is '²' or '³' && line[i - 1] is not (>= '0' and <= '9' or ')'))\n",
    "                        return false;\n",
    "                return true;\n",
    "            }\n",
    "        }\n",
    "    }\n",
    "}"
   ]
  },
  {
   "cell_type": "code",
   "execution_count": 3,
   "metadata": {
    "dotnet_interactive": {
     "language": "csharp"
    },
    "polyglot_notebook": {
     "kernelName": "csharp"
    }
   },
   "outputs": [
    {
     "name": "stderr",
     "output_type": "stream",
     "text": [
      "[0]: 15\n",
      "[1]: 15\n",
      "[2]: 15\n",
      "[3]: 15\n",
      "[4]: 15\n",
      "[5]: 15\n",
      "[6]: 15\n",
      "[7]: 15\n",
      "Max combinatory: 2562890625\n"
     ]
    }
   ],
   "source": [
    "var normal = new Nerdle() // first input = 12+57=69\n",
    "#nullable enable\n",
    "{\n",
    "    Slot = new (char?, char[]?)[8]\n",
    "    {\n",
    "        (null, \"\".ToCharArray()),\n",
    "        (null, \"\".ToCharArray()),\n",
    "        (null, \"\".ToCharArray()),\n",
    "        (null, \"\".ToCharArray()),\n",
    "        (null, \"\".ToCharArray()),\n",
    "        (null, \"\".ToCharArray()),\n",
    "        (null, \"\".ToCharArray()),\n",
    "        (null, \"\".ToCharArray()),\n",
    "    },\n",
    "    Symbols = new (char c, int qty, int min)[]\n",
    "    {\n",
    "        ('1', 0, 0),\n",
    "        ('2', 0, 0),\n",
    "        ('3', 0, 0),\n",
    "        ('4', 0, 0),\n",
    "        ('5', 0, 0),\n",
    "        ('6', 0, 0),\n",
    "        ('7', 0, 0),\n",
    "        ('8', 0, 0),\n",
    "        ('9', 0, 0),\n",
    "        ('0', 0, 0),\n",
    "        ('+', 0, 0),\n",
    "        ('-', 0, 0),\n",
    "        ('*', 0, 0),\n",
    "        ('/', 0, 0),\n",
    "        ('=', 1, 0),\n",
    "    },\n",
    "}.GetAllLines(printMaxCombinatory: true);"
   ]
  },
  {
   "cell_type": "code",
   "execution_count": 44,
   "metadata": {
    "dotnet_interactive": {
     "language": "csharp"
    },
    "polyglot_notebook": {
     "kernelName": "csharp"
    }
   },
   "outputs": [
    {
     "name": "stderr",
     "output_type": "stream",
     "text": [
      "[0]: 11\n",
      "[1]: 11\n",
      "[2]: 11\n",
      "[3]: 11\n",
      "[4]: 11\n",
      "[5]: 11\n",
      "Max combinatory: 1771561\n"
     ]
    }
   ],
   "source": [
    "var mini = new Nerdle()\n",
    "#nullable enable\n",
    "{\n",
    "    Slot = new (char?, char[]?)[6]\n",
    "    {\n",
    "        (null, \"\".ToCharArray()),\n",
    "        (null, \"\".ToCharArray()),\n",
    "        (null, \"\".ToCharArray()),\n",
    "        (null, \"\".ToCharArray()),\n",
    "        (null, \"\".ToCharArray()),\n",
    "        (null, \"\".ToCharArray()),\n",
    "    },\n",
    "    Symbols = new (char c, int qty, int min)[]\n",
    "    {\n",
    "        ('1', 0, 0),\n",
    "        ('2', 0, 0),\n",
    "        ('3', 0, 0),\n",
    "        ('4', 0, 0),\n",
    "        ('5', 0, 0),\n",
    "        ('6', 0, 0),\n",
    "        ('7', 0, 0),\n",
    "        ('8', 0, 0),\n",
    "        ('9', 0, 0),\n",
    "        ('0', 0, 0),\n",
    "        ('+', 0, 0),\n",
    "        ('-', 0, 0),\n",
    "        ('*', 0, 0),\n",
    "        ('/', 0, 0),\n",
    "        ('=', 1, 0),\n",
    "    },\n",
    "}.GetAllLines(printMaxCombinatory: true);"
   ]
  },
  {
   "cell_type": "code",
   "execution_count": 43,
   "metadata": {
    "dotnet_interactive": {
     "language": "csharp"
    },
    "polyglot_notebook": {
     "kernelName": "csharp"
    }
   },
   "outputs": [
    {
     "name": "stderr",
     "output_type": "stream",
     "text": [
      "[0]: 15\n",
      "[1]: 15\n",
      "[2]: 15\n",
      "[3]: 15\n",
      "[4]: 15\n",
      "Max combinatory: 759375\n"
     ]
    }
   ],
   "source": [
    "var micro = new Nerdle()\n",
    "#nullable enable\n",
    "{\n",
    "    Slot = new (char?, char[]?)[5]\n",
    "    {\n",
    "        (null, \"\".ToCharArray()),\n",
    "        (null, \"\".ToCharArray()),\n",
    "        (null, \"\".ToCharArray()),\n",
    "        (null, \"\".ToCharArray()),\n",
    "        (null, \"\".ToCharArray()),\n",
    "    },\n",
    "    Symbols = new (char c, int qty, int min)[]\n",
    "    {\n",
    "        ('1', 0, 0),\n",
    "        ('2', 0, 0),\n",
    "        ('3', 0, 0),\n",
    "        ('4', 0, 0),\n",
    "        ('5', 0, 0),\n",
    "        ('6', 0, 0),\n",
    "        ('7', 0, 0),\n",
    "        ('8', 0, 0),\n",
    "        ('9', 0, 0),\n",
    "        ('0', 0, 0),\n",
    "        ('+', 0, 0),\n",
    "        ('-', 0, 0),\n",
    "        ('*', 0, 0),\n",
    "        ('/', 0, 0),\n",
    "        ('=', 1, 0),\n",
    "    },\n",
    "}.GetAllLines(printMaxCombinatory: true);"
   ]
  },
  {
   "cell_type": "code",
   "execution_count": 42,
   "metadata": {
    "dotnet_interactive": {
     "language": "csharp"
    },
    "polyglot_notebook": {
     "kernelName": "csharp"
    }
   },
   "outputs": [
    {
     "name": "stderr",
     "output_type": "stream",
     "text": [
      "[0]: 11\n",
      "[1]: 11\n",
      "[2]: 11\n",
      "[3]: 11\n",
      "[4]: 11\n",
      "[5]: 11\n",
      "[6]: 11\n",
      "[7]: 11\n",
      "[8]: 11\n",
      "[9]: 11\n",
      "Max combinatory: 25937424601\n"
     ]
    }
   ],
   "source": [
    "var maxi = new Nerdle() // first input = 12*78=0936\n",
    "#nullable enable\n",
    "{\n",
    "    Slot = new (char?, char[]?)[10]\n",
    "    {\n",
    "        (null, \"\".ToCharArray()),\n",
    "        (null, \"\".ToCharArray()),\n",
    "        (null, \"\".ToCharArray()),\n",
    "        (null, \"\".ToCharArray()),\n",
    "        (null, \"\".ToCharArray()),\n",
    "        (null, \"\".ToCharArray()),\n",
    "        (null, \"\".ToCharArray()),\n",
    "        (null, \"\".ToCharArray()),\n",
    "        (null, \"\".ToCharArray()),\n",
    "        (null, \"\".ToCharArray()),\n",
    "    },\n",
    "    Symbols = new (char c, int qty, int min)[]\n",
    "    {\n",
    "        ('1', 0, 0),\n",
    "        ('2', 0, 0),\n",
    "        ('3', 0, 0),\n",
    "        ('4', 0, 0),\n",
    "        ('5', 0, 0),\n",
    "        ('6', 0, 0),\n",
    "        ('7', 0, 0),\n",
    "        ('8', 0, 0),\n",
    "        ('9', 0, 0),\n",
    "        ('0', 0, 0),\n",
    "        ('+', 0, 0),\n",
    "        ('-', 0, 0),\n",
    "        ('*', 0, 0),\n",
    "        ('/', 0, 0),\n",
    "        ('(', 0, 0),\n",
    "        (')', 0, 0),\n",
    "        ('²', 0, 0),\n",
    "        ('³', 0, 0),\n",
    "        ('=', 1, 0),\n",
    "    },\n",
    "}.GetAllLines(printMaxCombinatory: true);"
   ]
  },
  {
   "cell_type": "code",
   "execution_count": 15,
   "metadata": {
    "dotnet_interactive": {
     "language": "csharp"
    },
    "polyglot_notebook": {
     "kernelName": "csharp"
    }
   },
   "outputs": [
    {
     "name": "stderr",
     "output_type": "stream",
     "text": [
      "[0]: 26\n",
      "[1]: 26\n",
      "[2]: 26\n",
      "[3]: 26\n",
      "[4]: 26\n",
      "Max combinatory: 11881376\n"
     ]
    }
   ],
   "source": [
    "var wordle = new Nerdle()\n",
    "#nullable enable\n",
    "{\n",
    "    Slot = new (char?, char[]?)[5]\n",
    "    {\n",
    "        (null, \"\".ToCharArray()),\n",
    "        (null, \"\".ToCharArray()),\n",
    "        (null, \"\".ToCharArray()),\n",
    "        (null, \"\".ToCharArray()),\n",
    "        (null, \"\".ToCharArray()),\n",
    "    },\n",
    "    Symbols = new (char c, int qty, int min)[]\n",
    "    {\n",
    "        ('A', 0, 0),\n",
    "        ('B', 0, 0),\n",
    "        ('C', 0, 0),\n",
    "        ('D', 0, 0),\n",
    "        ('E', 0, 0),\n",
    "        ('F', 0, 0),\n",
    "        ('G', 0, 0),\n",
    "        ('H', 0, 0),\n",
    "        ('I', 0, 0),\n",
    "        ('J', 0, 0),\n",
    "        ('K', 0, 0),\n",
    "        ('L', 0, 0),\n",
    "        ('M', 0, 0),\n",
    "        ('N', 0, 0),\n",
    "        ('O', 0, 0),\n",
    "        ('P', 0, 0),\n",
    "        ('Q', 0, 0),\n",
    "        ('R', 0, 0),\n",
    "        ('S', 0, 0),\n",
    "        ('T', 0, 0),\n",
    "        ('U', 0, 0),\n",
    "        ('V', 0, 0),\n",
    "        ('W', 0, 0),\n",
    "        ('X', 0, 0),\n",
    "        ('Y', 0, 0),\n",
    "        ('Z', 0, 0),\n",
    "    },\n",
    "}.GetAllLines(printMaxCombinatory: true);"
   ]
  },
  {
   "cell_type": "code",
   "execution_count": 19,
   "metadata": {
    "dotnet_interactive": {
     "language": "csharp"
    },
    "polyglot_notebook": {
     "kernelName": "csharp"
    }
   },
   "outputs": [
    {
     "name": "stderr",
     "output_type": "stream",
     "text": [
      "[0]: 9\n",
      "[1]: 9\n",
      "[2]: 9\n",
      "[3]: 9\n",
      "[4]: 9\n",
      "Max combinatory: 59049\n"
     ]
    }
   ],
   "source": [
    "var cloudle = new Nerdle()\n",
    "#nullable enable\n",
    "{\n",
    "    Slot = new (char?, char[]?)[5]\n",
    "    {\n",
    "        (null, \"\".ToCharArray()),\n",
    "        (null, \"\".ToCharArray()),\n",
    "        (null, \"\".ToCharArray()),\n",
    "        (null, \"\".ToCharArray()),\n",
    "        (null, \"\".ToCharArray()),\n",
    "    },\n",
    "    Symbols = new (char c, int qty, int min)[]\n",
    "    {\n",
    "        ('0', 0, 0), // ☀️\n",
    "        ('1', 0, 0), // 🌤️\n",
    "        ('2', 0, 0), // 🌥️\n",
    "        ('3', 0, 0), // ☁️\n",
    "        ('4', 0, 0), // 🌦️\n",
    "        ('5', 0, 0), // 🌧️\n",
    "        ('6', 0, 0), // ⛈️\n",
    "        ('7', 0, 0), // 🌨️\n",
    "        ('8', 0, 0), // 🌫️\n",
    "    },\n",
    "}.GetAllLines(printMaxCombinatory: true);"
   ]
  },
  {
   "cell_type": "code",
   "execution_count": null,
   "metadata": {
    "dotnet_interactive": {
     "language": "csharp"
    },
    "polyglot_notebook": {
     "kernelName": "csharp"
    }
   },
   "outputs": [],
   "source": [
    "foreach (var line in maxi)\n",
    "    Console.WriteLine(line);"
   ]
  },
  {
   "cell_type": "code",
   "execution_count": 48,
   "metadata": {
    "dotnet_interactive": {
     "language": "csharp"
    },
    "polyglot_notebook": {
     "kernelName": "csharp"
    }
   },
   "outputs": [
    {
     "name": "stderr",
     "output_type": "stream",
     "text": [
      "[0]: 19\n",
      "[1]: 19\n",
      "[2]: 19\n",
      "[3]: 19\n",
      "[4]: 19\n",
      "[5]: 19\n",
      "[6]: 19\n",
      "[7]: 19\n",
      "Max combinatory: 16983563041\n"
     ]
    }
   ],
   "source": [
    "var nerdle = new Nerdle()\n",
    "#nullable enable\n",
    "{\n",
    "    Slot = new (char?, char[]?)[8]\n",
    "    {\n",
    "        (null, \"\".ToCharArray()),\n",
    "        (null, \"\".ToCharArray()),\n",
    "        (null, \"\".ToCharArray()),\n",
    "        (null, \"\".ToCharArray()),\n",
    "        (null, \"\".ToCharArray()),\n",
    "        (null, \"\".ToCharArray()),\n",
    "        (null, \"\".ToCharArray()),\n",
    "        (null, \"\".ToCharArray()),\n",
    "    },\n",
    "    Symbols = new (char c, int qty, int min)[]\n",
    "    {\n",
    "        ('1', 0, 0),\n",
    "        ('2', 0, 0),\n",
    "        ('3', 0, 0),\n",
    "        ('4', 0, 0),\n",
    "        ('5', 0, 0),\n",
    "        ('6', 0, 0),\n",
    "        ('7', 0, 0),\n",
    "        ('8', 0, 0),\n",
    "        ('9', 0, 0),\n",
    "        ('0', 0, 0),\n",
    "        ('+', 0, 0),\n",
    "        ('-', 0, 0),\n",
    "        ('*', 0, 0),\n",
    "        ('/', 0, 0),\n",
    "\n",
    "        ('(', 0, 0),\n",
    "        (')', 0, 0),\n",
    "        ('²', 0, 0),\n",
    "        ('³', 0, 0),\n",
    "        ('=', 1, 0),\n",
    "    },\n",
    "}.GetAllLines(printMaxCombinatory: true);"
   ]
  },
  {
   "cell_type": "code",
   "execution_count": 14,
   "metadata": {
    "dotnet_interactive": {
     "language": "csharp"
    },
    "polyglot_notebook": {
     "kernelName": "csharp"
    }
   },
   "outputs": [],
   "source": [
    "foreach (var line in nerdle)\n",
    "    Console.WriteLine(line);"
   ]
  }
 ],
 "metadata": {
  "kernelspec": {
   "display_name": ".NET (C#)",
   "language": "C#",
   "name": ".net-csharp"
  },
  "language_info": {
   "name": "polyglot-notebook"
  },
  "polyglot_notebook": {
   "kernelInfo": {
    "defaultKernelName": "csharp",
    "items": [
     {
      "aliases": [],
      "languageName": "csharp",
      "name": "csharp"
     }
    ]
   }
  }
 },
 "nbformat": 4,
 "nbformat_minor": 2
}
